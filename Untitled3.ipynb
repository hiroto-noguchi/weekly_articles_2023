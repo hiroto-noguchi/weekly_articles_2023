{
  "nbformat": 4,
  "nbformat_minor": 0,
  "metadata": {
    "colab": {
      "provenance": [],
      "authorship_tag": "ABX9TyP9RkCBY4iROmnr+Iwft5pw",
      "include_colab_link": true
    },
    "kernelspec": {
      "name": "python3",
      "display_name": "Python 3"
    },
    "language_info": {
      "name": "python"
    }
  },
  "cells": [
    {
      "cell_type": "markdown",
      "metadata": {
        "id": "view-in-github",
        "colab_type": "text"
      },
      "source": [
        "<a href=\"https://colab.research.google.com/github/hiroto-noguchi/weekly_articles_2023/blob/main/Untitled3.ipynb\" target=\"_parent\"><img src=\"https://colab.research.google.com/assets/colab-badge.svg\" alt=\"Open In Colab\"/></a>"
      ]
    },
    {
      "cell_type": "code",
      "execution_count": null,
      "metadata": {
        "id": "Jx6R-V8BTqEt"
      },
      "outputs": [],
      "source": [
        "#青空文庫のテキストのURLを辞書形式で定義する。\n",
        "urls = {'natsume1':'https://www.aozora.gr.jp/cards/000148/files/773_14560.html',\n",
        "        'natsume2':'https://www.aozora.gr.jp/cards/000148/files/776_14941.html',\n",
        "        'natsume3':'https://www.aozora.gr.jp/cards/000148/files/794_14946.html',\n",
        "        'natsume4':'https://www.aozora.gr.jp/cards/000148/files/752_14964.html',\n",
        "        'akutagawa1':'https://www.aozora.gr.jp/cards/000879/files/127_15260.html',\n",
        "        'akutagawa2':'https://www.aozora.gr.jp/cards/000879/files/179_15255.html',\n",
        "        'akutagawa3':'https://www.aozora.gr.jp/cards/000879/files/42_15228.html',\n",
        "        'akutagawa4':'https://www.aozora.gr.jp/cards/000879/files/43015_17432.html',\n",
        "        'natsume5':'https://www.aozora.gr.jp/cards/000148/files/789_14547.html',\n",
        "        'natsume6':'https://www.aozora.gr.jp/cards/000148/files/56143_50921.html',\n",
        "        'akutagawa5':'https://www.aozora.gr.jp/cards/000879/files/92_14545.html',\n",
        "        'akutagawa6': 'https://www.aozora.gr.jp/cards/000879/files/43016_16836.html'}"
      ]
    },
    {
      "cell_type": "code",
      "source": [
        "#引数に指定した青空文庫のurlからプレインテキストを取得する。\n",
        "def aozora(url):\n",
        "\n",
        "  import requests\n",
        "  from bs4 import BeautifulSoup\n",
        "\n",
        "  webpage = requests.get(url)\n",
        "  #青空文庫はshift_jisのためエンコーディングを指定する。\n",
        "  webpage.encoding = \"shift_jis\" \n",
        "  soup = BeautifulSoup(webpage.content, 'html.parser')\n",
        "  #ふりがなを削除する。\n",
        "  for tag in soup.findAll([\"rt\", \"rp\"]):\n",
        "    tag.decompose()\n",
        "  #本文の最初の1ooo文字を抽出する。\n",
        "  text = soup.find(class_=\"main_text\").get_text().strip()[:1000]\n",
        "  #スペースを処理する。\n",
        "  text = ''.join(text.split())\n",
        "  return text"
      ],
      "metadata": {
        "id": "N-5vLisTV0IF"
      },
      "execution_count": null,
      "outputs": []
    },
    {
      "cell_type": "code",
      "source": [
        "#natsume1の値のurlを引数として関数を実行する。\n",
        "natsume_test = aozora(urls['natsume1'])\n",
        "natsume_test"
      ],
      "metadata": {
        "id": "qJGvMuzNXYhj"
      },
      "execution_count": null,
      "outputs": []
    },
    {
      "cell_type": "code",
      "source": [
        "#janomeをインストールする。\n",
        "!pip install janome"
      ],
      "metadata": {
        "id": "BNhEGTBrY7kq"
      },
      "execution_count": null,
      "outputs": []
    },
    {
      "cell_type": "code",
      "source": [
        "#「こころ」の最初の100文字を形態素解析する。\n",
        "from janome.tokenizer import Tokenizer\n",
        "\n",
        "for token in Tokenizer().tokenize(natsume_test[:100]):\n",
        "  print(token)"
      ],
      "metadata": {
        "id": "BdK6gJqoY3Sb"
      },
      "execution_count": null,
      "outputs": []
    },
    {
      "cell_type": "code",
      "source": [
        "#品詞、原形、表層系、読みをプリントする。\n",
        "for token in Tokenizer().tokenize(natsume_test[:100]):\n",
        "  print(token.part_of_speech.split(',')[0], token.base_form, token.surface, token.reading)"
      ],
      "metadata": {
        "id": "74VX3UeJZafm"
      },
      "execution_count": null,
      "outputs": []
    },
    {
      "cell_type": "code",
      "source": [
        "#分かち書きをする。\n",
        "' '.join(list(Tokenizer(wakati=True).tokenize(natsume_test[:100])))"
      ],
      "metadata": {
        "id": "E8vPJmIQixG5"
      },
      "execution_count": null,
      "outputs": []
    },
    {
      "cell_type": "code",
      "source": [
        "#スクレイピング結果を分かち書きして辞書にする。\n",
        "texts = {}\n",
        "for author, url in urls.items():\n",
        "  text = aozora(url)\n",
        "  wakati = Tokenizer(wakati=True)\n",
        "  text = list(wakati.tokenize(text))\n",
        "  text = ' '.join(text)\n",
        "  texts[author]=text"
      ],
      "metadata": {
        "id": "gtMz1pi6i0iN"
      },
      "execution_count": null,
      "outputs": []
    },
    {
      "cell_type": "code",
      "source": [
        "#著者名と書き出しの50文字をプリントする。\n",
        "for author, text in texts.items():\n",
        "  print(author,text[:50])"
      ],
      "metadata": {
        "id": "F0pG7UdejqXl"
      },
      "execution_count": null,
      "outputs": []
    },
    {
      "cell_type": "code",
      "source": [
        "#それぞれの作品における単語の出現回数をカウントする\n",
        "import numpy as np\n",
        "import pandas as pd\n",
        "from sklearn.feature_extraction.text import CountVectorizer\n",
        "\n",
        "text_array = np.array(list(texts.values()))\n",
        "count = CountVectorizer()\n",
        "count.fit(text_array)\n",
        "x = count.transform(text_array)\n",
        "x = x.toarray()\n",
        "pd.DataFrame(x, columns=count.get_feature_names_out())"
      ],
      "metadata": {
        "id": "9Oe4MRc0kmnA"
      },
      "execution_count": null,
      "outputs": []
    },
    {
      "cell_type": "code",
      "source": [
        "#TF-IDFを求める。\n",
        "import pandas as pd\n",
        "import numpy as np\n",
        "from sklearn.feature_extraction.text import TfidfVectorizer\n",
        "\n",
        "text_array = np.array(list(texts.values()))\n",
        "tfidf = TfidfVectorizer()\n",
        "x = tfidf.fit_transform(text_array)\n",
        "x = x.toarray()\n",
        "pd.DataFrame(x, columns=count.get_feature_names_out())"
      ],
      "metadata": {
        "id": "CC3ItxIilpMW"
      },
      "execution_count": null,
      "outputs": []
    },
    {
      "cell_type": "code",
      "source": [
        "#正解ラベルを付与しておく。\n",
        "y = [0,0,0,0,1,1,1,1,0,0,1,1]\n",
        "y = np.array(y)\n",
        "y"
      ],
      "metadata": {
        "id": "qZNQJn4NmxpV"
      },
      "execution_count": null,
      "outputs": []
    },
    {
      "cell_type": "code",
      "source": [
        "#データを学習用とテスト用に分割する。\n",
        "x_train, x_test, y_train, y_test = x[:8], x[8:], y[:8], y[8:]"
      ],
      "metadata": {
        "id": "rf-FOYqjoLK6"
      },
      "execution_count": null,
      "outputs": []
    },
    {
      "cell_type": "code",
      "source": [
        "#ナイーブベイズモデル分類器の訓練と評価をする。\n",
        "from sklearn.naive_bayes import MultinomialNB\n",
        "clf = MultinomialNB().fit(x_train, y_train)\n",
        "print(\"Accuracy:\", clf.score(x_test, y_test))"
      ],
      "metadata": {
        "id": "e3MkqohZoWgQ"
      },
      "execution_count": null,
      "outputs": []
    },
    {
      "cell_type": "code",
      "source": [
        "#正解ラベルと予想した答えをプリントする。\n",
        "y_pred = clf.predict(x_test)\n",
        "print(y_test, y_pred)"
      ],
      "metadata": {
        "id": "8mWV2sJCyPt4"
      },
      "execution_count": null,
      "outputs": []
    },
    {
      "cell_type": "code",
      "source": [
        "#混合行列を用いて可視化する。\n",
        "from sklearn.metrics import confusion_matrix\n",
        "import matplotlib.pyplot as plt\n",
        "import seaborn as sns\n",
        "\n",
        "cm = confusion_matrix(y_test, y_pred)\n",
        "sns.heatmap(cm, annot=True, cmap='Blues')\n",
        "plt.xlabel('Predicted')\n",
        "plt.ylabel('True')\n",
        "plt.show()"
      ],
      "metadata": {
        "id": "hB7gZzKnynme"
      },
      "execution_count": null,
      "outputs": []
    }
  ]
}