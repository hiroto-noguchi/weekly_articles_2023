{
  "nbformat": 4,
  "nbformat_minor": 0,
  "metadata": {
    "colab": {
      "provenance": [],
      "authorship_tag": "ABX9TyN1BSq7eiD+UM9IhJPbUJmR",
      "include_colab_link": true
    },
    "kernelspec": {
      "name": "python3",
      "display_name": "Python 3"
    },
    "language_info": {
      "name": "python"
    }
  },
  "cells": [
    {
      "cell_type": "markdown",
      "metadata": {
        "id": "view-in-github",
        "colab_type": "text"
      },
      "source": [
        "<a href=\"https://colab.research.google.com/github/hiroto-noguchi/weekly_articles_2023/blob/main/weekly_article_2023_12.ipynb\" target=\"_parent\"><img src=\"https://colab.research.google.com/assets/colab-badge.svg\" alt=\"Open In Colab\"/></a>"
      ]
    },
    {
      "cell_type": "code",
      "execution_count": null,
      "metadata": {
        "id": "09sSu1GRJv9d"
      },
      "outputs": [],
      "source": [
        "!pip install openai"
      ]
    },
    {
      "cell_type": "code",
      "source": [
        "import openai\n",
        "openai.api_key = \"API_KEY\"\n",
        "response1 = openai.ChatCompletion.create(\n",
        "    model=\"gpt-3.5-turbo\",\n",
        "    messages=[\n",
        "        {\"role\": \"user\", \"content\": \"Hi! Can you tell me about yourself?\"}\n",
        "    ]\n",
        ")\n",
        "response1"
      ],
      "metadata": {
        "id": "E3PS3WD8KAje"
      },
      "execution_count": null,
      "outputs": []
    },
    {
      "cell_type": "code",
      "source": [
        "response1[\"choices\"][0][\"message\"][\"content\"]"
      ],
      "metadata": {
        "id": "dRo8ez1DKjrx"
      },
      "execution_count": null,
      "outputs": []
    },
    {
      "cell_type": "code",
      "source": [
        "response2 = openai.ChatCompletion.create(\n",
        "    model=\"gpt-3.5-turbo\",\n",
        "    messages=[\n",
        "        {\"role\": \"user\", \"content\": \"Hi! Can you tell me about yourself?\"},\n",
        "        {\"role\": \"assistant\", \"content\": response1[\"choices\"][0][\"message\"][\"content\"]},\n",
        "        {\"role\": \"user\", \"content\": \"Even though you are a language model, you should be able to describe yourself to some extent, such as by explaining how intelligent you are or what tasks you can perform.\"}\n",
        "    ]\n",
        ")\n",
        "response2[\"choices\"][0][\"message\"][\"content\"]"
      ],
      "metadata": {
        "id": "sh3_et6bKYBE"
      },
      "execution_count": null,
      "outputs": []
    },
    {
      "cell_type": "code",
      "source": [
        "response2_2 = openai.ChatCompletion.create(\n",
        "    model=\"gpt-3.5-turbo\",\n",
        "    temperature=0,\n",
        "    messages=[\n",
        "        {\"role\": \"user\", \"content\": \"Hi! Can you tell me about yourself?\"},\n",
        "        {\"role\": \"assistant\", \"content\": response1[\"choices\"][0][\"message\"][\"content\"]},\n",
        "        {\"role\": \"user\", \"content\": \"Even though you are a language model, you should be able to describe yourself to some extent, such as by explaining how intelligent you are or what tasks you can perform.\"}\n",
        "    ]\n",
        ")\n",
        "response2_2[\"choices\"][0][\"message\"][\"content\"]"
      ],
      "metadata": {
        "id": "kgufR8-tXg0j"
      },
      "execution_count": null,
      "outputs": []
    }
  ]
}