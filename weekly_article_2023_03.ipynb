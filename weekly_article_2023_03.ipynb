{
  "nbformat": 4,
  "nbformat_minor": 0,
  "metadata": {
    "colab": {
      "provenance": [],
      "mount_file_id": "1g8cBZ613w_uPd0-bqRknrjdtLTOO1Clt",
      "authorship_tag": "ABX9TyOduLymkN9PBDFNS5lE9ckr",
      "include_colab_link": true
    },
    "kernelspec": {
      "name": "python3",
      "display_name": "Python 3"
    },
    "language_info": {
      "name": "python"
    }
  },
  "cells": [
    {
      "cell_type": "markdown",
      "metadata": {
        "id": "view-in-github",
        "colab_type": "text"
      },
      "source": [
        "<a href=\"https://colab.research.google.com/github/hiroto-noguchi/weekly_articles_2023/blob/main/weekly_article_2023_03.ipynb\" target=\"_parent\"><img src=\"https://colab.research.google.com/assets/colab-badge.svg\" alt=\"Open In Colab\"/></a>"
      ]
    },
    {
      "cell_type": "code",
      "source": [
        "import requests\n",
        "from bs4 import BeautifulSoup\n",
        "import time\n",
        "from collections import Counter\n",
        "\n",
        "text = ''\n",
        "base = 'https://en.wikipedia.org/wiki/'\n",
        "items = ['Web_scraping', 'Robots.txt', 'Natural_language_processing']\n",
        "\n",
        "for item in items:\n",
        "  webpage = requests.get(base+item)\n",
        "  soup = BeautifulSoup(webpage.content, 'html.parser')\n",
        "  p_tags = soup.find_all('p')\n",
        "  for p_tag in p_tags:\n",
        "    text = text + p_tag.get_text().replace('\\n', ' ')\n",
        "  time.sleep(1)\n",
        "freq = Counter(text.lower().split())\n",
        "freq"
      ],
      "metadata": {
        "id": "hbw8NK3uDfQQ"
      },
      "execution_count": null,
      "outputs": []
    },
    {
      "cell_type": "code",
      "source": [
        "#Google Driveをマウントする。\n",
        "from google.colab import drive\n",
        "drive.mount('/content/drive')"
      ],
      "metadata": {
        "id": "Fdv1dlRy8-Qo"
      },
      "execution_count": null,
      "outputs": []
    },
    {
      "cell_type": "code",
      "source": [
        "#Pandasをインポートする。\n",
        "import pandas as pd\n",
        "#辞書データをdataframeに変換する。\n",
        "df = pd.DataFrame.from_dict(freq, orient='index',columns=['frequency']).rename_axis('word')\n",
        "df"
      ],
      "metadata": {
        "id": "MIzma5n2Dir2"
      },
      "execution_count": null,
      "outputs": []
    },
    {
      "cell_type": "code",
      "source": [
        "#20回以上繰り返される語のみを抽出する。\n",
        "df[df['frequency'] >= 20]"
      ],
      "metadata": {
        "id": "S-te5USSAIg1"
      },
      "execution_count": null,
      "outputs": []
    },
    {
      "cell_type": "code",
      "source": [
        "#dataframeをcsvファイルでGoogle Driveに保存する。\n",
        "df.to_csv('/content/drive/MyDrive/frequency.csv')"
      ],
      "metadata": {
        "id": "xNO0l_4BHHFT"
      },
      "execution_count": null,
      "outputs": []
    },
    {
      "cell_type": "code",
      "source": [
        "#Google Driveのcsvファイルをdataframeとして読み込む。\n",
        "df_1 = pd.read_csv('/content/drive/MyDrive/frequency.csv')\n",
        "df_1"
      ],
      "metadata": {
        "id": "NFBSg0XNUpwD"
      },
      "execution_count": null,
      "outputs": []
    },
    {
      "cell_type": "code",
      "source": [
        "#20回以上繰り返される語のみを抽出し、棒グラフにする。\n",
        "df[df['frequency'] >= 20].plot(kind='bar')"
      ],
      "metadata": {
        "id": "9salrsc_EApq"
      },
      "execution_count": null,
      "outputs": []
    },
    {
      "cell_type": "code",
      "source": [
        "#20回以上繰り返される語のみを抽出し、降順に並べる。\n",
        "df[df['frequency'] >= 20].sort_values('frequency', ascending=False)"
      ],
      "metadata": {
        "id": "imU6NfuwBJYD"
      },
      "execution_count": null,
      "outputs": []
    },
    {
      "cell_type": "code",
      "source": [
        "#20回以上繰り返される語のみを抽出し、降順に並べて、棒グラフにする。\n",
        "df[df['frequency'] >= 20].sort_values('frequency', ascending=False).plot(kind='bar')"
      ],
      "metadata": {
        "id": "ESxhfFiyP2in"
      },
      "execution_count": null,
      "outputs": []
    },
    {
      "cell_type": "code",
      "source": [
        "print(3*1**2+2*1+1) \n",
        "print(3*2**2+2*2+1) \n",
        "print(3*3**2+2*3+1) "
      ],
      "metadata": {
        "id": "uMkuhzl6W2vd"
      },
      "execution_count": null,
      "outputs": []
    },
    {
      "cell_type": "code",
      "source": [
        "#関数化する。\n",
        "def f(x):\n",
        "  return 3*x**2+2*x+1"
      ],
      "metadata": {
        "id": "LFdT597YX0bu"
      },
      "execution_count": null,
      "outputs": []
    },
    {
      "cell_type": "code",
      "source": [
        "#関数に1から3までの値を代入する。\n",
        "print(f(1))\n",
        "print(f(2))\n",
        "print(f(3))"
      ],
      "metadata": {
        "id": "p7xxuryiYUch"
      },
      "execution_count": null,
      "outputs": []
    },
    {
      "cell_type": "code",
      "source": [
        "#関数に1から10までの値を代入する。\n",
        "for i in range(10):\n",
        "  print(f(i))"
      ],
      "metadata": {
        "id": "ywTY8aBjYUiU"
      },
      "execution_count": null,
      "outputs": []
    },
    {
      "cell_type": "code",
      "source": [
        "#関数化する前の状態を書き出している。\n",
        "import requests\n",
        "from bs4 import BeautifulSoup\n",
        "import time\n",
        "from collections import Counter\n",
        "import pandas as pd\n",
        "\n",
        "text = ''\n",
        "base = 'https://en.wikipedia.org/wiki/'\n",
        "items = ['Web_scraping', 'Robots.txt', 'Natural_language_processing']\n",
        "n = 20\n",
        "\n",
        "for item in items:\n",
        "  webpage = requests.get(base+item)\n",
        "  soup = BeautifulSoup(webpage.content, 'html.parser')\n",
        "  p_tags = soup.find_all('p')\n",
        "  for p_tag in p_tags:\n",
        "    text = text + p_tag.get_text().replace('\\n', ' ')\n",
        "  time.sleep(1)\n",
        "freq = Counter(text.lower().split())\n",
        "\n",
        "df = pd.DataFrame.from_dict(freq, orient='index',columns=['frequency']).rename_axis('word')\n",
        "df[df['frequency'] >= n].sort_values('frequency', ascending=False).plot(kind='bar')"
      ],
      "metadata": {
        "id": "2Gi-sKIRav5c"
      },
      "execution_count": null,
      "outputs": []
    },
    {
      "cell_type": "code",
      "source": [
        "#スクレイピングから可視化までの流れを関数として定義する。\n",
        "#itemにはリストでURLの末尾を、nには整数で単語の出現回数の閾値を受け取る。\n",
        "def visualize(items, n):\n",
        "  import requests\n",
        "  from bs4 import BeautifulSoup\n",
        "  import time\n",
        "  from collections import Counter\n",
        "  import pandas as pd\n",
        "\n",
        "  text = ''\n",
        "  base = 'https://en.wikipedia.org/wiki/'\n",
        "\n",
        "  for item in items:\n",
        "    webpage = requests.get(base+item)\n",
        "    soup = BeautifulSoup(webpage.content, 'html.parser')\n",
        "    p_tags = soup.find_all('p')\n",
        "    for p_tag in p_tags:\n",
        "      text = text + p_tag.get_text().replace('\\n', ' ')\n",
        "    time.sleep(1)\n",
        "  freq = Counter(text.lower().split())\n",
        "\n",
        "  df = pd.DataFrame.from_dict(freq, orient='index',columns=['frequency']).rename_axis('word')\n",
        "  df[df['frequency'] >= n].sort_values('frequency', ascending=False).plot(kind='bar')"
      ],
      "metadata": {
        "id": "wWwdMvvSbBl6"
      },
      "execution_count": null,
      "outputs": []
    },
    {
      "cell_type": "code",
      "source": [
        "#'Web_scraping', 'Robots.txt', 'Natural_language_processing'の記事で20回以上出てくる単語を棒グラフで可視化している。\n",
        "visualize(['Web_scraping', 'Robots.txt', 'Natural_language_processing'], 20)"
      ],
      "metadata": {
        "id": "jmOWC2_jbeXF"
      },
      "execution_count": null,
      "outputs": []
    },
    {
      "cell_type": "code",
      "source": [
        "#'Language', 'English'の記事で40回以上出てくる単語を棒グラフで可視化している。\n",
        "visualize(['Language', 'English'], 40)"
      ],
      "metadata": {
        "id": "Tle7NjJyxO38"
      },
      "execution_count": null,
      "outputs": []
    }
  ]
}