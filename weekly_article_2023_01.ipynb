{
  "nbformat": 4,
  "nbformat_minor": 0,
  "metadata": {
    "colab": {
      "provenance": []
    },
    "kernelspec": {
      "name": "python3",
      "display_name": "Python 3"
    },
    "language_info": {
      "name": "python"
    }
  },
  "cells": [
    {
      "cell_type": "code",
      "execution_count": null,
      "metadata": {
        "id": "qiFhUrnddov6"
      },
      "outputs": [],
      "source": [
        "'''テキストに説明文を代入する。\n",
        "イコールの前後のスペースはあってもなくてもよい。'''\n",
        "text = 'Python is an easy to learn, powerful programming language. It has efficient high-level data structures and a simple but effective approach to object-oriented programming. Python’s elegant syntax and dynamic typing, together with its interpreted nature, make it an ideal language for scripting and rapid application development in many areas on most platforms.'"
      ]
    },
    {
      "cell_type": "code",
      "source": [
        "#textの中身をプリント（表示）する。\n",
        "text"
      ],
      "metadata": {
        "id": "kYYQ4fW2ezIk"
      },
      "execution_count": null,
      "outputs": []
    },
    {
      "cell_type": "code",
      "source": [
        "#textを小文字にする。\n",
        "text.lower()"
      ],
      "metadata": {
        "id": "WMk7dHB4e5UJ"
      },
      "execution_count": null,
      "outputs": []
    },
    {
      "cell_type": "code",
      "source": [
        "#textを小文字にして分割する。\n",
        "text.lower().split()"
      ],
      "metadata": {
        "id": "DiigK1a1e9bU"
      },
      "execution_count": null,
      "outputs": []
    },
    {
      "cell_type": "code",
      "source": [
        "'''inの後ろのリストの要素の数の分だけループを回し、\n",
        "リストの要素を順にforの後ろのwordに代入する。\n",
        "wordはほかに変数名に変えてもよいが、\n",
        "その場合は後続する変数も忘れずに変更する。'''\n",
        "\n",
        "for word in ['a', 'b', 'c']:\n",
        "  \n",
        "#wordをプリントする。\n",
        "  print(word)"
      ],
      "metadata": {
        "id": "uLYkR7l2fGUp"
      },
      "execution_count": null,
      "outputs": []
    },
    {
      "cell_type": "code",
      "source": [
        "#小文字化されたテキストのそれぞれの単語をプリントする。\n",
        "\n",
        "for word in text.lower().split():\n",
        "  print(word)"
      ],
      "metadata": {
        "id": "VETGmaWafUIM"
      },
      "execution_count": null,
      "outputs": []
    },
    {
      "cell_type": "code",
      "source": [
        "#リストのそれぞれの要素について同じ処理を繰り返す。\n",
        "for word in ['a', 'b', 'c']:\n",
        "\n",
        "#もしwordに入っている要素がbであれば、以下の処理を実行する。\n",
        "  if word == 'b':\n",
        "\n",
        "#wordの中身をプリントする。\n",
        "    print(word)"
      ],
      "metadata": {
        "id": "qzXkCStWfdm7"
      },
      "execution_count": null,
      "outputs": []
    },
    {
      "cell_type": "code",
      "source": [
        "#小文字化された単語それぞれについて同じ処理を繰り返す。\n",
        "for word in text.lower().split():\n",
        "\n",
        "#もしwordに入っている単語がandであれば、以下の処理を実行する。\n",
        "  if word == 'and':\n",
        "\n",
        "#wordの中身をプリントする。\n",
        "    print(word)"
      ],
      "metadata": {
        "id": "2VORQnYUflto"
      },
      "execution_count": null,
      "outputs": []
    },
    {
      "cell_type": "code",
      "source": [
        "#iという変数に0をセットする。\n",
        "#counterなど別の名前にしてもよい。\n",
        "i = 0\n",
        "for word in text.lower().split():\n",
        "  if word == 'and':\n",
        "\n",
        "#単語がwordであった場合だけに1を追加する。\n",
        "    i = i+1\n",
        "\n",
        "#複数の要素をプリントしたい場合は、コンマでつなぐ。\n",
        "    print(i, word)"
      ],
      "metadata": {
        "id": "054m8nblfn7Y"
      },
      "execution_count": null,
      "outputs": []
    },
    {
      "cell_type": "code",
      "source": [
        "i = 0\n",
        "\n",
        "for word in text.lower().split():\n",
        "  if word == 'and':\n",
        "    i = i+1\n",
        "\n",
        "'''さきほどとは字下げの位置が変わり、\n",
        "すべての繰り返しが終わってからiをプリントしていることに注意する。'''\n",
        "print(i)"
      ],
      "metadata": {
        "collapsed": true,
        "id": "ZlwabFFBfxXp"
      },
      "execution_count": null,
      "outputs": []
    }
  ]
}
