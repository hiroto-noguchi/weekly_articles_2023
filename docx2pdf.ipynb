{
  "cells": [
    {
      "cell_type": "markdown",
      "metadata": {
        "id": "view-in-github",
        "colab_type": "text"
      },
      "source": [
        "<a href=\"https://colab.research.google.com/github/hiroto-noguchi/weekly_articles_2023/blob/main/docx2pdf.ipynb\" target=\"_parent\"><img src=\"https://colab.research.google.com/assets/colab-badge.svg\" alt=\"Open In Colab\"/></a>"
      ]
    },
    {
      "cell_type": "code",
      "execution_count": null,
      "metadata": {
        "colab": {
          "background_save": true
        },
        "id": "YZdjw3ownA7R"
      },
      "outputs": [],
      "source": [
        "!sudo apt-get install unoconv\n",
        "\n",
        "import subprocess\n",
        "from google.colab import files\n",
        "\n",
        "# アップロードされたファイルを取得する\n",
        "uploaded = files.upload()\n",
        "\n",
        "for filename in uploaded.keys():\n",
        "    # unoconvを使用して、WordファイルをPDFに変換する\n",
        "    subprocess.call(['unoconv', '-f', 'pdf', filename])\n",
        "\n",
        "    # 変換されたPDFファイルをダウンロードする\n",
        "    pdf_filename = f\"{filename.split('.')[0]}.pdf\"\n",
        "    files.download(pdf_filename)"
      ]
    }
  ],
  "metadata": {
    "colab": {
      "provenance": [],
      "authorship_tag": "ABX9TyMaLuUSE5yCvpexCrdhSGfN",
      "include_colab_link": true
    },
    "kernelspec": {
      "display_name": "Python 3",
      "name": "python3"
    },
    "language_info": {
      "name": "python"
    }
  },
  "nbformat": 4,
  "nbformat_minor": 0
}