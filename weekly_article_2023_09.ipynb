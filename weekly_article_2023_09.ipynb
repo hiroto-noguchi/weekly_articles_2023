{
  "nbformat": 4,
  "nbformat_minor": 0,
  "metadata": {
    "colab": {
      "provenance": [],
      "authorship_tag": "ABX9TyPbA5lmWzueEZUhfcrfPhSf",
      "include_colab_link": true
    },
    "kernelspec": {
      "name": "python3",
      "display_name": "Python 3"
    },
    "language_info": {
      "name": "python"
    }
  },
  "cells": [
    {
      "cell_type": "markdown",
      "metadata": {
        "id": "view-in-github",
        "colab_type": "text"
      },
      "source": [
        "<a href=\"https://colab.research.google.com/github/hiroto-noguchi/weekly_articles_2023/blob/main/weekly_article_2023_09.ipynb\" target=\"_parent\"><img src=\"https://colab.research.google.com/assets/colab-badge.svg\" alt=\"Open In Colab\"/></a>"
      ]
    },
    {
      "cell_type": "code",
      "execution_count": null,
      "metadata": {
        "id": "PStSanLw52wr"
      },
      "outputs": [],
      "source": [
        "!pip install praat-parselmouth\n",
        "import parselmouth"
      ]
    },
    {
      "cell_type": "code",
      "source": [
        "from IPython.display import Audio\n",
        "Audio(filename=\"/content/untitled.wav\")"
      ],
      "metadata": {
        "id": "FNAuZwI4AFpf"
      },
      "execution_count": null,
      "outputs": []
    },
    {
      "cell_type": "code",
      "source": [
        "import matplotlib.pyplot as plt\n",
        "\n",
        "sound = parselmouth.Sound(\"/content/untitled.wav\")\n",
        "plt.plot(sound.xs(), sound.values.T)\n",
        "\n",
        "plt.xlim([sound.xmin, sound.xmax])\n",
        "plt.xlabel(\"Time (s)\")\n",
        "plt.ylabel(\"Amplitude\")\n",
        "plt.show()"
      ],
      "metadata": {
        "id": "ct6I14_sAn21"
      },
      "execution_count": null,
      "outputs": []
    },
    {
      "cell_type": "code",
      "source": [
        "def draw_spectrogram(spectrogram, dynamic_range=70):\n",
        "    X, Y = spectrogram.x_grid(), spectrogram.y_grid()\n",
        "    sg_db = 10 * np.log10(spectrogram.values)\n",
        "    plt.pcolormesh(X, Y, sg_db, vmin=sg_db.max() - dynamic_range)\n",
        "    plt.ylim([spectrogram.ymin, spectrogram.ymax])\n",
        "    plt.xlabel(\"time [s]\")\n",
        "    plt.ylabel(\"frequency [Hz]\")\n",
        "\n",
        "import numpy as np\n",
        "spectrogram = sound.to_spectrogram()\n",
        "draw_spectrogram(spectrogram)\n",
        "plt.show()"
      ],
      "metadata": {
        "id": "-1l98fDKAtv_"
      },
      "execution_count": null,
      "outputs": []
    },
    {
      "cell_type": "code",
      "source": [
        "pitch = sound.to_pitch()\n",
        "pitch_values = pitch.selected_array['frequency']\n",
        "pitch_list = pitch_values.tolist()\n",
        "pitch_list"
      ],
      "metadata": {
        "id": "L4Na6VeoA4bH"
      },
      "execution_count": null,
      "outputs": []
    },
    {
      "cell_type": "code",
      "source": [
        "parselmouth.praat.call(pitch, \"Get mean\", 0.0, 0.0, \"Hertz\")"
      ],
      "metadata": {
        "id": "gKXUXHhoBFvt"
      },
      "execution_count": null,
      "outputs": []
    },
    {
      "cell_type": "code",
      "source": [
        "!pip install tgt\n",
        "import tgt\n",
        "\n",
        "textgrid = tgt.read_textgrid(\"/content/untitled.TextGrid\")\n",
        "intervals = textgrid.get_tier_by_name(\"silences\")\n",
        "\n",
        "for interval in intervals:\n",
        "    start_time = interval.start_time\n",
        "    end_time = interval.end_time\n",
        "    text = interval.text\n",
        "    pitch_value = parselmouth.praat.call(pitch, \"Get mean\", start_time, end_time, \"Hertz\") \n",
        "    print(text, pitch_value)"
      ],
      "metadata": {
        "id": "01OOd8OmBUhF"
      },
      "execution_count": null,
      "outputs": []
    }
  ]
}