{
  "nbformat": 4,
  "nbformat_minor": 0,
  "metadata": {
    "colab": {
      "provenance": [],
      "authorship_tag": "ABX9TyMxCGBPuPM78EvezS76dfbn",
      "include_colab_link": true
    },
    "kernelspec": {
      "name": "python3",
      "display_name": "Python 3"
    },
    "language_info": {
      "name": "python"
    }
  },
  "cells": [
    {
      "cell_type": "markdown",
      "metadata": {
        "id": "view-in-github",
        "colab_type": "text"
      },
      "source": [
        "<a href=\"https://colab.research.google.com/github/hiroto-noguchi/weekly_articles_2023/blob/main/weekly_article_2023_09.ipynb\" target=\"_parent\"><img src=\"https://colab.research.google.com/assets/colab-badge.svg\" alt=\"Open In Colab\"/></a>"
      ]
    },
    {
      "cell_type": "code",
      "execution_count": null,
      "metadata": {
        "id": "gcsX6DT3nfCQ"
      },
      "outputs": [],
      "source": [
        "#URLを使用した校正\n",
        "import requests\n",
        "import json\n",
        "\n",
        "url = 'https://api.languagetool.org/v2/check'\n",
        "text = 'This are the correct sentences.'\n",
        "params = {\n",
        "    'text': text,\n",
        "    'language': 'en-US'\n",
        "}\n",
        "response = requests.post(url, data=params)\n",
        "result = json.loads(response.text)\n",
        "result"
      ]
    },
    {
      "cell_type": "code",
      "source": [
        "#ライブラリーを使用した校正\n",
        "!pip install language-tool-python\n",
        "from language_tool_python import LanguageTool\n",
        "\n",
        "text = \"This are the correct sentences.\"\n",
        "tool = LanguageTool('en-US')\n",
        "matches = tool.check(text)\n",
        "matches"
      ],
      "metadata": {
        "id": "nKWoArDropyf"
      },
      "execution_count": null,
      "outputs": []
    },
    {
      "cell_type": "code",
      "source": [
        "for error in matches:\n",
        "  print(error)"
      ],
      "metadata": {
        "id": "YclTyp6yoxXU"
      },
      "execution_count": null,
      "outputs": []
    },
    {
      "cell_type": "code",
      "source": [
        "import requests\n",
        "\n",
        "def translate(text):\n",
        "    endpoint = \"https://api.mymemory.translated.net/get\"\n",
        "    params = {\n",
        "        \"q\": text,\n",
        "        \"langpair\": \"en|ja\"\n",
        "    }\n",
        "    response = requests.get(endpoint, params=params)\n",
        "    data = response.json()\n",
        "    return data\n",
        "\n",
        "text = \"This are the correct sentences.\"\n",
        "translation = translate(text)\n",
        "print(translation['responseData']['translatedText'])"
      ],
      "metadata": {
        "id": "E-xeNIR0o0-R"
      },
      "execution_count": null,
      "outputs": []
    },
    {
      "cell_type": "code",
      "source": [
        "for error in matches:\n",
        "  translation = translate(error.message)\n",
        "  print(translation['responseData']['translatedText'])"
      ],
      "metadata": {
        "id": "iBiVHTe8pY_Y"
      },
      "execution_count": null,
      "outputs": []
    },
    {
      "cell_type": "code",
      "source": [
        "!git clone https://github.com/odashi/small_parallel_enja.git\n",
        "\n",
        "with open('/content/small_parallel_enja/train.en.000', 'r', encoding='utf-8') as f:\n",
        "    english_sentences_train = f.readlines()\n",
        "\n",
        "with open('/content/small_parallel_enja/train.ja.000', 'r', encoding='utf-8') as f:\n",
        "    japanese_sentences_train = f.readlines()\n",
        "\n",
        "with open('/content/small_parallel_enja/test.en', 'r', encoding='utf-8') as f:\n",
        "    english_sentences_test = f.readlines()\n",
        "\n",
        "with open('/content/small_parallel_enja/test.ja', 'r', encoding='utf-8') as f:\n",
        "    japanese_sentences_test = f.readlines()"
      ],
      "metadata": {
        "id": "wDjBCVsUpTC-"
      },
      "execution_count": null,
      "outputs": []
    },
    {
      "cell_type": "code",
      "source": [
        "japanese_sentences_test[:10]"
      ],
      "metadata": {
        "id": "ZPpjUT9OpjLw"
      },
      "execution_count": null,
      "outputs": []
    },
    {
      "cell_type": "code",
      "source": [
        "english_sentences_test[:10]"
      ],
      "metadata": {
        "id": "Co-ya9OfplbL"
      },
      "execution_count": null,
      "outputs": []
    },
    {
      "cell_type": "code",
      "source": [
        "import tensorflow as tf\n",
        "import numpy as np\n",
        "\n",
        "# データを変数に与える\n",
        "japanese_sentences = japanese_sentences_train\n",
        "english_sentences = english_sentences_train\n",
        "\n",
        "# 日本語文を整数に変換する\n",
        "japanese_tokenizer = tf.keras.preprocessing.text.Tokenizer()\n",
        "japanese_tokenizer.fit_on_texts(japanese_sentences)\n",
        "\n",
        "# 英語文を整数に変換する\n",
        "english_tokenizer = tf.keras.preprocessing.text.Tokenizer()\n",
        "english_tokenizer.fit_on_texts(english_sentences)\n",
        "\n",
        "# 整数を単語に変換するための逆引き辞書を作成する\n",
        "japanese_index_word = {index: word for word, index in japanese_tokenizer.word_index.items()}\n",
        "english_index_word = {index: word for word, index in english_tokenizer.word_index.items()}\n",
        "\n",
        "# 日本語文を整数に変換する\n",
        "japanese_sequences = japanese_tokenizer.texts_to_sequences(japanese_sentences)\n",
        "\n",
        "# 英語文を整数に変換する\n",
        "english_sequences = english_tokenizer.texts_to_sequences(english_sentences)\n",
        "\n",
        "# パディング(0で埋めることによる文の長さの調整)する\n",
        "japanese_padded = tf.keras.preprocessing.sequence.pad_sequences(japanese_sequences, padding='post')\n",
        "english_padded = tf.keras.preprocessing.sequence.pad_sequences(english_sequences, padding='post')\n",
        "\n",
        "# モデルを定義する\n",
        "model = tf.keras.models.Sequential([\n",
        "    tf.keras.layers.Embedding(len(japanese_tokenizer.word_index)+1, 256),\n",
        "    tf.keras.layers.Bidirectional(tf.keras.layers.LSTM(256)),\n",
        "    tf.keras.layers.RepeatVector(len(english_padded[0])),\n",
        "    tf.keras.layers.Bidirectional(tf.keras.layers.LSTM(256, return_sequences=True)),\n",
        "    tf.keras.layers.Dense(len(english_tokenizer.word_index)+1, activation='softmax')\n",
        "])\n",
        "\n",
        "# モデルをコンパイルする\n",
        "model.compile(loss='sparse_categorical_crossentropy', optimizer='adam')\n",
        "\n",
        "# モデルを訓練する\n",
        "model.fit(japanese_padded, english_padded, epochs=30)"
      ],
      "metadata": {
        "id": "Eat4tZEvppkq"
      },
      "execution_count": null,
      "outputs": []
    },
    {
      "cell_type": "code",
      "source": [
        "#結果を検証する\n",
        "for i in range(len(predictions)):\n",
        "    predicted_sentence = []\n",
        "    for j in range(len(predictions[i])):\n",
        "        predicted_word_index = np.argmax(predictions[i][j])\n",
        "        if predicted_word_index == 0:\n",
        "            continue\n",
        "        predicted_word = english_index_word.get(predicted_word_index, \"\")\n",
        "        predicted_sentence.append(predicted_word)\n",
        "    print(\"和文:\", japanese_sentences_test[i])\n",
        "    print(\"翻訳結果:\", ' '.join(predicted_sentence))\n",
        "    print()"
      ],
      "metadata": {
        "id": "SVIVa3Ttp1Dq"
      },
      "execution_count": null,
      "outputs": []
    }
  ]
}