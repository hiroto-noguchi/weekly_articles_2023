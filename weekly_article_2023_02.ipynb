{
  "nbformat": 4,
  "nbformat_minor": 0,
  "metadata": {
    "colab": {
      "provenance": [],
      "authorship_tag": "ABX9TyNIUaiUrfs/PHbt6nJy2NR9",
      "include_colab_link": true
    },
    "kernelspec": {
      "name": "python3",
      "display_name": "Python 3"
    },
    "language_info": {
      "name": "python"
    }
  },
  "cells": [
    {
      "cell_type": "markdown",
      "metadata": {
        "id": "view-in-github",
        "colab_type": "text"
      },
      "source": [
        "<a href=\"https://colab.research.google.com/github/hiroto-noguchi/weekly_articles_2023/blob/main/weekly_article_2023_02.ipynb\" target=\"_parent\"><img src=\"https://colab.research.google.com/assets/colab-badge.svg\" alt=\"Open In Colab\"/></a>"
      ]
    },
    {
      "cell_type": "code",
      "source": [
        "#requestsというライブラリーをインポートする。\n",
        "import requests\n",
        "#ウェブページを取得する。\n",
        "webpage = requests.get('https://ja.wikipedia.org/wiki/%E3%82%A6%E3%82%A7%E3%83%96%E3%82%B9%E3%82%AF%E3%83%AC%E3%82%A4%E3%83%94%E3%83%B3%E3%82%B0')\n",
        "#テキストを表示する。\n",
        "webpage.text"
      ],
      "metadata": {
        "id": "7BVjyDVaYRr8"
      },
      "execution_count": null,
      "outputs": []
    },
    {
      "cell_type": "code",
      "source": [
        "#BeautifulSoupというライブラリーをインポートする。\n",
        "from bs4 import BeautifulSoup\n",
        "#HTMLを解析する。\n",
        "soup = BeautifulSoup(webpage.content, 'html.parser')\n",
        "#本文（今回の記事では<div id=\"bodyContent\">...</div>とマークアップされている部分）を抽出する。\n",
        "soup.find('div', id='bodyContent').get_text()"
      ],
      "metadata": {
        "id": "HOurXzMCYXW_"
      },
      "execution_count": null,
      "outputs": []
    },
    {
      "cell_type": "code",
      "source": [
        "#改行記号を削除する。\n",
        "soup.find('div', id='bodyContent').get_text().replace('\\n', '')"
      ],
      "metadata": {
        "id": "uYtHnrXdYZhI"
      },
      "execution_count": null,
      "outputs": []
    },
    {
      "cell_type": "code",
      "source": [
        "#test_htmlという変数に自作したhtmlを代入する。\n",
        "test_html = '<h1>見出し1</h1><h2>見出し2</h2><b>太字</b><i>斜体</i><u>下線</u>'\n",
        "#test_htmlを解析する。\n",
        "soup = BeautifulSoup(test_html, 'html.parser')\n",
        "#<h1>...</h1>とマークアップされている部分を探して、その部分のテキストを取得する。\n",
        "soup.find('h1').get_text()"
      ],
      "metadata": {
        "id": "_3yawn4pYctx"
      },
      "execution_count": null,
      "outputs": []
    },
    {
      "cell_type": "code",
      "source": [
        "#<b>... </b>とマークアップされている部分を探して、その部分のテキストを取得する。\n",
        "soup.find('b').get_text()"
      ],
      "metadata": {
        "id": "9Mz7NwwrYhhh"
      },
      "execution_count": null,
      "outputs": []
    },
    {
      "cell_type": "code",
      "source": [
        "items = ['Web_scraping', 'Robots.txt', 'Natural_language_processing']\n",
        "for item in items:\n",
        "  print(item)"
      ],
      "metadata": {
        "id": "5UUqIHCmYj3Z"
      },
      "execution_count": null,
      "outputs": []
    },
    {
      "cell_type": "code",
      "source": [
        "a = 'A'\n",
        "b = 'B'\n",
        "a + b"
      ],
      "metadata": {
        "id": "FTZu8KfUYmsO"
      },
      "execution_count": null,
      "outputs": []
    },
    {
      "cell_type": "code",
      "source": [
        "base = 'https://en.wikipedia.org/wiki/'\n",
        "items = ['Web_scraping', 'Robots.txt', 'Natural_language_processing']\n",
        "for item in items:\n",
        "  print(base + item)"
      ],
      "metadata": {
        "id": "8U5W4eytYpTB"
      },
      "execution_count": null,
      "outputs": []
    },
    {
      "cell_type": "code",
      "source": [
        "#必要なライブラリーをインポートします。\n",
        "import requests\n",
        "from bs4 import BeautifulSoup\n",
        "import time\n",
        "\n",
        "#空の文字列を用意しておきます。\n",
        "text = ''\n",
        "base = 'https://en.wikipedia.org/wiki/'\n",
        "items = ['Web_scraping', 'Robots.txt', 'Natural_language_processing']\n",
        "\n",
        "for item in items:\n",
        "  webpage = requests.get(base+item)\n",
        "  soup = BeautifulSoup(webpage.content, 'html.parser')\n",
        "  text = text + soup.find('p').get_text().replace('\\n', '')\n",
        "  #1秒間実行を停止させています。( )の中に停止させたい秒数を入れます。\n",
        "  time.sleep(1)\n",
        "\n",
        "text"
      ],
      "metadata": {
        "id": "LHGSN-CSYuiR"
      },
      "execution_count": null,
      "outputs": []
    },
    {
      "cell_type": "code",
      "source": [
        "#必要なライブラリーをインポートする。\n",
        "import datetime\n",
        "\n",
        "#3回ループさせるという意味である。\n",
        "for i in range(3):\n",
        "#現在時刻をプリントする。\n",
        "  print(datetime.datetime.now())"
      ],
      "metadata": {
        "id": "mLfML6DUZB08"
      },
      "execution_count": null,
      "outputs": []
    },
    {
      "cell_type": "code",
      "source": [
        "import datetime\n",
        "#timeというライブラリーも追加する。\n",
        "import time\n",
        "\n",
        "for i in range(3):\n",
        "  print(datetime.datetime.now())\n",
        "  #ループごとに1秒間停止させる。print文と字下げの深さがそろっていることに注意する。\n",
        "  #for文とそろえると、ループが終わってから1秒間停止する。\n",
        "  #そのため、アクセスの頻度を下げる役割を果たさなくなる。\n",
        "  time.sleep(1)  "
      ],
      "metadata": {
        "id": "LvKaqoCkZI8Z"
      },
      "execution_count": null,
      "outputs": []
    },
    {
      "cell_type": "code",
      "source": [
        "i = 0\n",
        "for word in text.lower().split():\n",
        "  if word == 'and':\n",
        "    i = i+1\n",
        "print(i)"
      ],
      "metadata": {
        "id": "mfKELKHeZ9xm"
      },
      "execution_count": null,
      "outputs": []
    },
    {
      "cell_type": "code",
      "source": [
        "#ライブラリーをインポートする。\n",
        "from collections import Counter\n",
        "#リストの要素の出現回数をカウントする。\n",
        "Counter(['a', 'a', 'b'])"
      ],
      "metadata": {
        "id": "fDhcYcASaCya"
      },
      "execution_count": null,
      "outputs": []
    },
    {
      "cell_type": "code",
      "source": [
        "text.lower().split()"
      ],
      "metadata": {
        "id": "mTO37oOJaTxI"
      },
      "execution_count": null,
      "outputs": []
    },
    {
      "cell_type": "code",
      "source": [
        "from collections import Counter\n",
        "Counter(text.lower().split())"
      ],
      "metadata": {
        "id": "PBJYKe7RaZjQ"
      },
      "execution_count": null,
      "outputs": []
    },
    {
      "cell_type": "code",
      "source": [
        "freq = Counter(text.lower().split())"
      ],
      "metadata": {
        "id": "hBifGmo_abtC"
      },
      "execution_count": null,
      "outputs": []
    },
    {
      "cell_type": "code",
      "source": [
        "freq['a']"
      ],
      "metadata": {
        "id": "PMnK7CZSanSq"
      },
      "execution_count": null,
      "outputs": []
    }
  ]
}